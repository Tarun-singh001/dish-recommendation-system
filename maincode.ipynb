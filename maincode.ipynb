{
 "cells": [
  {
   "cell_type": "code",
   "execution_count": 1,
   "id": "445546ad",
   "metadata": {},
   "outputs": [],
   "source": [
    "import pandas as pd\n",
    "import numpy as np"
   ]
  },
  {
   "cell_type": "code",
   "execution_count": 2,
   "id": "7c4e1fe1",
   "metadata": {},
   "outputs": [],
   "source": [
    "df= pd.read_csv('indian_food.csv')"
   ]
  },
  {
   "cell_type": "code",
   "execution_count": 3,
   "id": "67a42ea5",
   "metadata": {},
   "outputs": [
    {
     "name": "stdout",
     "output_type": "stream",
     "text": [
      "<class 'pandas.core.frame.DataFrame'>\n",
      "RangeIndex: 255 entries, 0 to 254\n",
      "Data columns (total 9 columns):\n",
      " #   Column          Non-Null Count  Dtype \n",
      "---  ------          --------------  ----- \n",
      " 0   name            255 non-null    object\n",
      " 1   ingredients     255 non-null    object\n",
      " 2   diet            255 non-null    object\n",
      " 3   prep_time       255 non-null    int64 \n",
      " 4   cook_time       255 non-null    int64 \n",
      " 5   flavor_profile  255 non-null    object\n",
      " 6   course          255 non-null    object\n",
      " 7   state           255 non-null    object\n",
      " 8   region          254 non-null    object\n",
      "dtypes: int64(2), object(7)\n",
      "memory usage: 18.1+ KB\n"
     ]
    }
   ],
   "source": [
    "df.info()"
   ]
  },
  {
   "cell_type": "code",
   "execution_count": 4,
   "id": "4171c4f2",
   "metadata": {},
   "outputs": [
    {
     "data": {
      "text/plain": [
       "(255, 9)"
      ]
     },
     "execution_count": 4,
     "metadata": {},
     "output_type": "execute_result"
    }
   ],
   "source": [
    "df.shape"
   ]
  },
  {
   "cell_type": "code",
   "execution_count": 5,
   "id": "369ee7a1",
   "metadata": {},
   "outputs": [
    {
     "data": {
      "text/plain": [
       "Index(['name', 'ingredients', 'diet', 'prep_time', 'cook_time',\n",
       "       'flavor_profile', 'course', 'state', 'region'],\n",
       "      dtype='object')"
      ]
     },
     "execution_count": 5,
     "metadata": {},
     "output_type": "execute_result"
    }
   ],
   "source": [
    "df.columns"
   ]
  },
  {
   "cell_type": "code",
   "execution_count": 6,
   "id": "0b5a3dec",
   "metadata": {},
   "outputs": [],
   "source": [
    "df=df.drop('state',axis=1)"
   ]
  },
  {
   "cell_type": "code",
   "execution_count": 7,
   "id": "37dcc959",
   "metadata": {},
   "outputs": [],
   "source": [
    "df=df.drop('region', axis=1)"
   ]
  },
  {
   "cell_type": "code",
   "execution_count": 8,
   "id": "23bb9d6e",
   "metadata": {},
   "outputs": [
    {
     "data": {
      "text/plain": [
       "(255, 7)"
      ]
     },
     "execution_count": 8,
     "metadata": {},
     "output_type": "execute_result"
    }
   ],
   "source": [
    "df.shape"
   ]
  },
  {
   "cell_type": "code",
   "execution_count": 9,
   "id": "8cf0ba90",
   "metadata": {},
   "outputs": [
    {
     "name": "stdout",
     "output_type": "stream",
     "text": [
      "<class 'pandas.core.frame.DataFrame'>\n",
      "RangeIndex: 255 entries, 0 to 254\n",
      "Data columns (total 7 columns):\n",
      " #   Column          Non-Null Count  Dtype \n",
      "---  ------          --------------  ----- \n",
      " 0   name            255 non-null    object\n",
      " 1   ingredients     255 non-null    object\n",
      " 2   diet            255 non-null    object\n",
      " 3   prep_time       255 non-null    int64 \n",
      " 4   cook_time       255 non-null    int64 \n",
      " 5   flavor_profile  255 non-null    object\n",
      " 6   course          255 non-null    object\n",
      "dtypes: int64(2), object(5)\n",
      "memory usage: 14.1+ KB\n"
     ]
    }
   ],
   "source": [
    "df.info()"
   ]
  },
  {
   "cell_type": "code",
   "execution_count": 10,
   "id": "2cb73ec4",
   "metadata": {},
   "outputs": [
    {
     "data": {
      "text/plain": [
       "0      45\n",
       "1      80\n",
       "2      15\n",
       "3      15\n",
       "4      15\n",
       "       ..\n",
       "250     5\n",
       "251    20\n",
       "252    -1\n",
       "253    20\n",
       "254    -1\n",
       "Name: prep_time, Length: 255, dtype: int64"
      ]
     },
     "execution_count": 10,
     "metadata": {},
     "output_type": "execute_result"
    }
   ],
   "source": [
    "df.prep_time"
   ]
  },
  {
   "cell_type": "code",
   "execution_count": 11,
   "id": "78c7dee1",
   "metadata": {},
   "outputs": [],
   "source": [
    "for x in df.prep_time:\n",
    "    if (x < 0):\n",
    "       x=0"
   ]
  },
  {
   "cell_type": "code",
   "execution_count": 12,
   "id": "0770e3d6",
   "metadata": {},
   "outputs": [
    {
     "data": {
      "text/plain": [
       "0      45\n",
       "1      80\n",
       "2      15\n",
       "3      15\n",
       "4      15\n",
       "       ..\n",
       "250     5\n",
       "251    20\n",
       "252    -1\n",
       "253    20\n",
       "254    -1\n",
       "Name: prep_time, Length: 255, dtype: int64"
      ]
     },
     "execution_count": 12,
     "metadata": {},
     "output_type": "execute_result"
    }
   ],
   "source": [
    "df.prep_time"
   ]
  },
  {
   "cell_type": "code",
   "execution_count": 13,
   "id": "e6603448",
   "metadata": {},
   "outputs": [
    {
     "name": "stdout",
     "output_type": "stream",
     "text": [
      "30\n"
     ]
    }
   ],
   "source": [
    "c=0;\n",
    "for x in df.prep_time:\n",
    "    if(x<=0):\n",
    "        c+=1\n",
    "        x==0\n",
    "print(c)"
   ]
  },
  {
   "cell_type": "code",
   "execution_count": 14,
   "id": "cb978123",
   "metadata": {},
   "outputs": [],
   "source": [
    "columns_to_replace = ['prep_time', 'cook_time']\n",
    "df[columns_to_replace] = df[columns_to_replace].where(df[columns_to_replace] >= 0, np.nan)"
   ]
  },
  {
   "cell_type": "code",
   "execution_count": 15,
   "id": "8cada7c6",
   "metadata": {},
   "outputs": [],
   "source": [
    "average_A = df['prep_time'].mean()\n",
    "average_B = df['cook_time'].mean()\n",
    "df['prep_time'] = df['prep_time'].where(df['prep_time'] >= 0, average_A)\n",
    "df['cook_time'] = df['cook_time'].where(df['cook_time'] >= 0, average_B)\n",
    "\n"
   ]
  },
  {
   "cell_type": "code",
   "execution_count": 16,
   "id": "a6e493f3",
   "metadata": {},
   "outputs": [
    {
     "data": {
      "text/plain": [
       "0      45.000000\n",
       "1      80.000000\n",
       "2      15.000000\n",
       "3      15.000000\n",
       "4      15.000000\n",
       "         ...    \n",
       "250     5.000000\n",
       "251    20.000000\n",
       "252    35.386667\n",
       "253    20.000000\n",
       "254    35.386667\n",
       "Name: prep_time, Length: 255, dtype: float64"
      ]
     },
     "execution_count": 16,
     "metadata": {},
     "output_type": "execute_result"
    }
   ],
   "source": [
    "df.prep_time"
   ]
  },
  {
   "cell_type": "code",
   "execution_count": 17,
   "id": "4aa39bf0",
   "metadata": {},
   "outputs": [
    {
     "name": "stdout",
     "output_type": "stream",
     "text": [
      "<class 'pandas.core.frame.DataFrame'>\n",
      "RangeIndex: 255 entries, 0 to 254\n",
      "Data columns (total 7 columns):\n",
      " #   Column          Non-Null Count  Dtype  \n",
      "---  ------          --------------  -----  \n",
      " 0   name            255 non-null    object \n",
      " 1   ingredients     255 non-null    object \n",
      " 2   diet            255 non-null    object \n",
      " 3   prep_time       255 non-null    float64\n",
      " 4   cook_time       255 non-null    float64\n",
      " 5   flavor_profile  255 non-null    object \n",
      " 6   course          255 non-null    object \n",
      "dtypes: float64(2), object(5)\n",
      "memory usage: 14.1+ KB\n"
     ]
    }
   ],
   "source": [
    "df.info()"
   ]
  },
  {
   "cell_type": "code",
   "execution_count": 18,
   "id": "757b6158",
   "metadata": {},
   "outputs": [],
   "source": [
    "#data is cleaned "
   ]
  },
  {
   "cell_type": "code",
   "execution_count": 19,
   "id": "4d5dc204",
   "metadata": {},
   "outputs": [
    {
     "data": {
      "text/plain": [
       "0                        Maida flour, yogurt, oil, sugar\n",
       "1                                Gram flour, ghee, sugar\n",
       "2           Carrots, milk, sugar, ghee, cashews, raisins\n",
       "3      Flour, ghee, kewra, milk, clarified butter, su...\n",
       "4      Milk powder, plain flour, baking powder, ghee,...\n",
       "                             ...                        \n",
       "250              Glutinous rice, black sesame seeds, gur\n",
       "251    Coconut milk, egg yolks, clarified butter, all...\n",
       "252    Cottage cheese, dry dates, dried rose petals, ...\n",
       "253    Milk powder, dry fruits, arrowroot powder, all...\n",
       "254    Brown rice, fennel seeds, grated coconut, blac...\n",
       "Name: ingredients, Length: 255, dtype: object"
      ]
     },
     "execution_count": 19,
     "metadata": {},
     "output_type": "execute_result"
    }
   ],
   "source": [
    "df. ingredients "
   ]
  },
  {
   "cell_type": "code",
   "execution_count": 20,
   "id": "1b923f66",
   "metadata": {},
   "outputs": [
    {
     "data": {
      "text/plain": [
       "0      vegetarian\n",
       "1      vegetarian\n",
       "2      vegetarian\n",
       "3      vegetarian\n",
       "4      vegetarian\n",
       "          ...    \n",
       "250    vegetarian\n",
       "251    vegetarian\n",
       "252    vegetarian\n",
       "253    vegetarian\n",
       "254    vegetarian\n",
       "Name: diet, Length: 255, dtype: object"
      ]
     },
     "execution_count": 20,
     "metadata": {},
     "output_type": "execute_result"
    }
   ],
   "source": [
    "df.diet"
   ]
  },
  {
   "cell_type": "code",
   "execution_count": 21,
   "id": "75dfc2bb",
   "metadata": {},
   "outputs": [
    {
     "name": "stdout",
     "output_type": "stream",
     "text": [
      "226\n"
     ]
    }
   ],
   "source": [
    "c=0;\n",
    "for x in df.diet:\n",
    "    if(x=='vegetarian'):\n",
    "        c+=1\n",
    "        x==0\n",
    "print(c)"
   ]
  },
  {
   "cell_type": "code",
   "execution_count": 22,
   "id": "c7ef742c",
   "metadata": {},
   "outputs": [],
   "source": [
    "#df['ingredients'] = df['ingredients'].str.split(', ')"
   ]
  },
  {
   "cell_type": "code",
   "execution_count": 23,
   "id": "ba70b1bc",
   "metadata": {},
   "outputs": [
    {
     "data": {
      "text/html": [
       "<div>\n",
       "<style scoped>\n",
       "    .dataframe tbody tr th:only-of-type {\n",
       "        vertical-align: middle;\n",
       "    }\n",
       "\n",
       "    .dataframe tbody tr th {\n",
       "        vertical-align: top;\n",
       "    }\n",
       "\n",
       "    .dataframe thead th {\n",
       "        text-align: right;\n",
       "    }\n",
       "</style>\n",
       "<table border=\"1\" class=\"dataframe\">\n",
       "  <thead>\n",
       "    <tr style=\"text-align: right;\">\n",
       "      <th></th>\n",
       "      <th>name</th>\n",
       "      <th>ingredients</th>\n",
       "      <th>diet</th>\n",
       "      <th>prep_time</th>\n",
       "      <th>cook_time</th>\n",
       "      <th>flavor_profile</th>\n",
       "      <th>course</th>\n",
       "    </tr>\n",
       "  </thead>\n",
       "  <tbody>\n",
       "    <tr>\n",
       "      <th>0</th>\n",
       "      <td>Balu shahi</td>\n",
       "      <td>Maida flour, yogurt, oil, sugar</td>\n",
       "      <td>vegetarian</td>\n",
       "      <td>45.000000</td>\n",
       "      <td>25.000000</td>\n",
       "      <td>sweet</td>\n",
       "      <td>dessert</td>\n",
       "    </tr>\n",
       "    <tr>\n",
       "      <th>1</th>\n",
       "      <td>Boondi</td>\n",
       "      <td>Gram flour, ghee, sugar</td>\n",
       "      <td>vegetarian</td>\n",
       "      <td>80.000000</td>\n",
       "      <td>30.000000</td>\n",
       "      <td>sweet</td>\n",
       "      <td>dessert</td>\n",
       "    </tr>\n",
       "    <tr>\n",
       "      <th>2</th>\n",
       "      <td>Gajar ka halwa</td>\n",
       "      <td>Carrots, milk, sugar, ghee, cashews, raisins</td>\n",
       "      <td>vegetarian</td>\n",
       "      <td>15.000000</td>\n",
       "      <td>60.000000</td>\n",
       "      <td>sweet</td>\n",
       "      <td>dessert</td>\n",
       "    </tr>\n",
       "    <tr>\n",
       "      <th>3</th>\n",
       "      <td>Ghevar</td>\n",
       "      <td>Flour, ghee, kewra, milk, clarified butter, su...</td>\n",
       "      <td>vegetarian</td>\n",
       "      <td>15.000000</td>\n",
       "      <td>30.000000</td>\n",
       "      <td>sweet</td>\n",
       "      <td>dessert</td>\n",
       "    </tr>\n",
       "    <tr>\n",
       "      <th>4</th>\n",
       "      <td>Gulab jamun</td>\n",
       "      <td>Milk powder, plain flour, baking powder, ghee,...</td>\n",
       "      <td>vegetarian</td>\n",
       "      <td>15.000000</td>\n",
       "      <td>40.000000</td>\n",
       "      <td>sweet</td>\n",
       "      <td>dessert</td>\n",
       "    </tr>\n",
       "    <tr>\n",
       "      <th>...</th>\n",
       "      <td>...</td>\n",
       "      <td>...</td>\n",
       "      <td>...</td>\n",
       "      <td>...</td>\n",
       "      <td>...</td>\n",
       "      <td>...</td>\n",
       "      <td>...</td>\n",
       "    </tr>\n",
       "    <tr>\n",
       "      <th>250</th>\n",
       "      <td>Til Pitha</td>\n",
       "      <td>Glutinous rice, black sesame seeds, gur</td>\n",
       "      <td>vegetarian</td>\n",
       "      <td>5.000000</td>\n",
       "      <td>30.000000</td>\n",
       "      <td>sweet</td>\n",
       "      <td>dessert</td>\n",
       "    </tr>\n",
       "    <tr>\n",
       "      <th>251</th>\n",
       "      <td>Bebinca</td>\n",
       "      <td>Coconut milk, egg yolks, clarified butter, all...</td>\n",
       "      <td>vegetarian</td>\n",
       "      <td>20.000000</td>\n",
       "      <td>60.000000</td>\n",
       "      <td>sweet</td>\n",
       "      <td>dessert</td>\n",
       "    </tr>\n",
       "    <tr>\n",
       "      <th>252</th>\n",
       "      <td>Shufta</td>\n",
       "      <td>Cottage cheese, dry dates, dried rose petals, ...</td>\n",
       "      <td>vegetarian</td>\n",
       "      <td>35.386667</td>\n",
       "      <td>38.911894</td>\n",
       "      <td>sweet</td>\n",
       "      <td>dessert</td>\n",
       "    </tr>\n",
       "    <tr>\n",
       "      <th>253</th>\n",
       "      <td>Mawa Bati</td>\n",
       "      <td>Milk powder, dry fruits, arrowroot powder, all...</td>\n",
       "      <td>vegetarian</td>\n",
       "      <td>20.000000</td>\n",
       "      <td>45.000000</td>\n",
       "      <td>sweet</td>\n",
       "      <td>dessert</td>\n",
       "    </tr>\n",
       "    <tr>\n",
       "      <th>254</th>\n",
       "      <td>Pinaca</td>\n",
       "      <td>Brown rice, fennel seeds, grated coconut, blac...</td>\n",
       "      <td>vegetarian</td>\n",
       "      <td>35.386667</td>\n",
       "      <td>38.911894</td>\n",
       "      <td>sweet</td>\n",
       "      <td>dessert</td>\n",
       "    </tr>\n",
       "  </tbody>\n",
       "</table>\n",
       "<p>255 rows × 7 columns</p>\n",
       "</div>"
      ],
      "text/plain": [
       "               name                                        ingredients   \n",
       "0        Balu shahi                    Maida flour, yogurt, oil, sugar  \\\n",
       "1            Boondi                            Gram flour, ghee, sugar   \n",
       "2    Gajar ka halwa       Carrots, milk, sugar, ghee, cashews, raisins   \n",
       "3            Ghevar  Flour, ghee, kewra, milk, clarified butter, su...   \n",
       "4       Gulab jamun  Milk powder, plain flour, baking powder, ghee,...   \n",
       "..              ...                                                ...   \n",
       "250       Til Pitha            Glutinous rice, black sesame seeds, gur   \n",
       "251         Bebinca  Coconut milk, egg yolks, clarified butter, all...   \n",
       "252          Shufta  Cottage cheese, dry dates, dried rose petals, ...   \n",
       "253       Mawa Bati  Milk powder, dry fruits, arrowroot powder, all...   \n",
       "254          Pinaca  Brown rice, fennel seeds, grated coconut, blac...   \n",
       "\n",
       "           diet  prep_time  cook_time flavor_profile   course  \n",
       "0    vegetarian  45.000000  25.000000          sweet  dessert  \n",
       "1    vegetarian  80.000000  30.000000          sweet  dessert  \n",
       "2    vegetarian  15.000000  60.000000          sweet  dessert  \n",
       "3    vegetarian  15.000000  30.000000          sweet  dessert  \n",
       "4    vegetarian  15.000000  40.000000          sweet  dessert  \n",
       "..          ...        ...        ...            ...      ...  \n",
       "250  vegetarian   5.000000  30.000000          sweet  dessert  \n",
       "251  vegetarian  20.000000  60.000000          sweet  dessert  \n",
       "252  vegetarian  35.386667  38.911894          sweet  dessert  \n",
       "253  vegetarian  20.000000  45.000000          sweet  dessert  \n",
       "254  vegetarian  35.386667  38.911894          sweet  dessert  \n",
       "\n",
       "[255 rows x 7 columns]"
      ]
     },
     "execution_count": 23,
     "metadata": {},
     "output_type": "execute_result"
    }
   ],
   "source": [
    "df"
   ]
  },
  {
   "cell_type": "code",
   "execution_count": 24,
   "id": "aeb6cc9b",
   "metadata": {},
   "outputs": [
    {
     "data": {
      "text/plain": [
       "0                        Maida flour, yogurt, oil, sugar\n",
       "1                                Gram flour, ghee, sugar\n",
       "2           Carrots, milk, sugar, ghee, cashews, raisins\n",
       "3      Flour, ghee, kewra, milk, clarified butter, su...\n",
       "4      Milk powder, plain flour, baking powder, ghee,...\n",
       "                             ...                        \n",
       "250              Glutinous rice, black sesame seeds, gur\n",
       "251    Coconut milk, egg yolks, clarified butter, all...\n",
       "252    Cottage cheese, dry dates, dried rose petals, ...\n",
       "253    Milk powder, dry fruits, arrowroot powder, all...\n",
       "254    Brown rice, fennel seeds, grated coconut, blac...\n",
       "Name: ingredients, Length: 255, dtype: object"
      ]
     },
     "execution_count": 24,
     "metadata": {},
     "output_type": "execute_result"
    }
   ],
   "source": [
    "df.ingredients"
   ]
  },
  {
   "cell_type": "code",
   "execution_count": 25,
   "id": "be2c01a2",
   "metadata": {},
   "outputs": [],
   "source": [
    "#string_set = set(df['ingredients'])"
   ]
  },
  {
   "cell_type": "code",
   "execution_count": 26,
   "id": "5700b746",
   "metadata": {},
   "outputs": [],
   "source": [
    "#string_set"
   ]
  },
  {
   "cell_type": "code",
   "execution_count": 27,
   "id": "7ce45b46",
   "metadata": {},
   "outputs": [
    {
     "data": {
      "text/plain": [
       "0                        Maida flour, yogurt, oil, sugar\n",
       "1                                Gram flour, ghee, sugar\n",
       "2           Carrots, milk, sugar, ghee, cashews, raisins\n",
       "3      Flour, ghee, kewra, milk, clarified butter, su...\n",
       "4      Milk powder, plain flour, baking powder, ghee,...\n",
       "                             ...                        \n",
       "250              Glutinous rice, black sesame seeds, gur\n",
       "251    Coconut milk, egg yolks, clarified butter, all...\n",
       "252    Cottage cheese, dry dates, dried rose petals, ...\n",
       "253    Milk powder, dry fruits, arrowroot powder, all...\n",
       "254    Brown rice, fennel seeds, grated coconut, blac...\n",
       "Name: ingredients, Length: 255, dtype: object"
      ]
     },
     "execution_count": 27,
     "metadata": {},
     "output_type": "execute_result"
    }
   ],
   "source": [
    "df.ingredients"
   ]
  },
  {
   "cell_type": "code",
   "execution_count": 28,
   "id": "36d3563c",
   "metadata": {},
   "outputs": [
    {
     "name": "stdout",
     "output_type": "stream",
     "text": [
      "type in your input ingredients : arbi ke patte\n"
     ]
    }
   ],
   "source": [
    "#import ast\n",
    "#df['ingredients'] = df['ingredients'].map(lambda x: ast.literal_eval(x))\n",
    "input_ingredient =input('type in your input ingredients : ')"
   ]
  },
  {
   "cell_type": "code",
   "execution_count": 29,
   "id": "4097e1ba",
   "metadata": {},
   "outputs": [
    {
     "name": "stdout",
     "output_type": "stream",
     "text": [
      " Most similar dish recommendation: Pattor\n",
      " VEG/NON-VEG : vegetarian\n",
      " Preperation time: 10.0 minutes\n",
      " Cooking time: 30.0 minutes\n"
     ]
    }
   ],
   "source": [
    "\n",
    "from sklearn.feature_extraction.text import TfidfVectorizer\n",
    "from sklearn.metrics.pairwise import cosine_similarity\n",
    "ingredients = df.ingredients\n",
    "dishes = df.name\n",
    "diet=df.diet\n",
    "prep_time=df.prep_time\n",
    "cook_time=df.cook_time\n",
    "course= df.course\n",
    "#  TF-IDF vectorizer\n",
    "vectorizer = TfidfVectorizer()\n",
    "\n",
    "# Fit and transform the ingredients\n",
    "ingredient_vectors = vectorizer.fit_transform(ingredients)\n",
    "\n",
    "# Transform the input ingredients\n",
    "input_vector = vectorizer.transform([input_ingredient])\n",
    "\n",
    "# cosine similarity\n",
    "cosine_similarities = cosine_similarity(input_vector, ingredient_vectors)\n",
    "\n",
    "# Find the most similar dish\n",
    "most_similar_row_index = cosine_similarities.argmax()\n",
    "most_similar_dish = dishes[most_similar_row_index]\n",
    "TYPE = diet[most_similar_row_index]\n",
    "preptime = prep_time[most_similar_row_index]\n",
    "cooktime = cook_time[most_similar_row_index]\n",
    "course = course[most_similar_row_index]\n",
    "\n",
    "print(f\" Most similar dish recommendation: {most_similar_dish}\\n\",f\"VEG/NON-VEG : {TYPE}\\n\",f\"Preperation time: {preptime} minutes\\n\",f\"Cooking time: {cooktime} minutes\")"
   ]
  },
  {
   "cell_type": "code",
   "execution_count": 30,
   "id": "63addcaf",
   "metadata": {},
   "outputs": [
    {
     "name": "stdout",
     "output_type": "stream",
     "text": [
      "type in your input ingredients : ARBI KE [PATTE\n",
      "Error! Only letters a-z allowed!\n",
      " Most similar dish recommendation: Pattor\n",
      " VEG/NON-VEG : vegetarian\n",
      " Preperation time: 10.0 minutes\n",
      " Cooking time: 30.0 minutes\n"
     ]
    }
   ],
   "source": [
    "import re\n",
    "\n",
    "input_str = input(\"type in your input ingredients : \")\n",
    "if not re.match(\"^[a-z]*$\", input_str):\n",
    "    print(\"Error! Only letters a-z allowed!\")\n",
    "    \n",
    "    \n",
    "\n",
    "from sklearn.feature_extraction.text import TfidfVectorizer\n",
    "from sklearn.metrics.pairwise import cosine_similarity\n",
    "ingredients = df.ingredients\n",
    "dishes = df.name\n",
    "diet=df.diet\n",
    "prep_time=df.prep_time\n",
    "cook_time=df.cook_time\n",
    "course= df.course\n",
    "#  TF-IDF vectorizer\n",
    "vectorizer = TfidfVectorizer()\n",
    "\n",
    "# Fit and transform the ingredients\n",
    "ingredient_vectors = vectorizer.fit_transform(ingredients)\n",
    "\n",
    "# Transform the input ingredients\n",
    "input_vector = vectorizer.transform([input_str])\n",
    "\n",
    "# cosine similarity\n",
    "cosine_similarities = cosine_similarity(input_vector, ingredient_vectors)\n",
    "\n",
    "# Find the most similar dish\n",
    "most_similar_row_index = cosine_similarities.argmax()\n",
    "most_similar_dish = dishes[most_similar_row_index]\n",
    "TYPE = diet[most_similar_row_index]\n",
    "preptime = prep_time[most_similar_row_index]\n",
    "cooktime = cook_time[most_similar_row_index]\n",
    "course = course[most_similar_row_index]\n",
    "\n",
    "print(f\" Most similar dish recommendation: {most_similar_dish}\\n\",f\"VEG/NON-VEG : {TYPE}\\n\",f\"Preperation time: {preptime} minutes\\n\",f\"Cooking time: {cooktime} minutes\")"
   ]
  },
  {
   "cell_type": "code",
   "execution_count": 31,
   "id": "6656f910",
   "metadata": {},
   "outputs": [
    {
     "name": "stdout",
     "output_type": "stream",
     "text": [
      "type in your input ingredients : POMEGRANATE\n",
      "Error! Only letters a-z allowed!\n",
      " Most similar dish recommendation: Sev khamani\n",
      " VEG/NON-VEG : vegetarian\n",
      " Preperation time: 20.0 minutes\n",
      " Cooking time: 30.0 minutes\n"
     ]
    }
   ],
   "source": [
    "import re\n",
    "\n",
    "input_str = input(\"type in your input ingredients : \")\n",
    "if not re.match(\"^[a-z]*$\", input_str):\n",
    "    print(\"Error! Only letters a-z allowed!\")\n",
    "    \n",
    "    \n",
    "\n",
    "from sklearn.feature_extraction.text import TfidfVectorizer\n",
    "from sklearn.metrics.pairwise import cosine_similarity\n",
    "ingredients = df.ingredients\n",
    "dishes = df.name\n",
    "diet=df.diet\n",
    "prep_time=df.prep_time\n",
    "cook_time=df.cook_time\n",
    "course= df.course\n",
    "#  TF-IDF vectorizer\n",
    "vectorizer = TfidfVectorizer()\n",
    "\n",
    "# Fit and transform the ingredients\n",
    "ingredient_vectors = vectorizer.fit_transform(ingredients)\n",
    "\n",
    "# Transform the input ingredients\n",
    "input_vector = vectorizer.transform([input_str])\n",
    "\n",
    "# cosine similarity\n",
    "cosine_similarities = cosine_similarity(input_vector, ingredient_vectors)\n",
    "\n",
    "# Find the most similar dish\n",
    "most_similar_row_index = cosine_similarities.argmax()\n",
    "most_similar_dish = dishes[most_similar_row_index]\n",
    "TYPE = diet[most_similar_row_index]\n",
    "preptime = prep_time[most_similar_row_index]\n",
    "cooktime = cook_time[most_similar_row_index]\n",
    "course = course[most_similar_row_index]\n",
    "\n",
    "print(f\" Most similar dish recommendation: {most_similar_dish}\\n\",f\"VEG/NON-VEG : {TYPE}\\n\",f\"Preperation time: {preptime} minutes\\n\",f\"Cooking time: {cooktime} minutes\")"
   ]
  },
  {
   "cell_type": "code",
   "execution_count": null,
   "id": "e744ac4c",
   "metadata": {},
   "outputs": [],
   "source": []
  }
 ],
 "metadata": {
  "kernelspec": {
   "display_name": "Python 3 (ipykernel)",
   "language": "python",
   "name": "python3"
  },
  "language_info": {
   "codemirror_mode": {
    "name": "ipython",
    "version": 3
   },
   "file_extension": ".py",
   "mimetype": "text/x-python",
   "name": "python",
   "nbconvert_exporter": "python",
   "pygments_lexer": "ipython3",
   "version": "3.11.3"
  }
 },
 "nbformat": 4,
 "nbformat_minor": 5
}
